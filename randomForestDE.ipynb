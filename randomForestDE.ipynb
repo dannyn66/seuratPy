{
 "cells": [
  {
   "cell_type": "code",
   "execution_count": 20,
   "metadata": {},
   "outputs": [],
   "source": [
    "import numpy as np\n",
    "import pandas as pd\n",
    "\n",
    "import seaborn as sns\n",
    "\n",
    "from sklearn.model_selection import train_test_split\n",
    "from sklearn.ensemble import RandomForestClassifier\n",
    "from sklearn.metrics import accuracy_score\n",
    "from sklearn.metrics import confusion_matrix\n",
    "from sklearn.decomposition import PCA\n",
    "from sklearn import svm\n",
    "\n",
    "from scipy.stats import mannwhitneyu\n",
    "\n",
    "import matplotlib.pyplot as plt\n",
    "%matplotlib inline "
   ]
  },
  {
   "cell_type": "code",
   "execution_count": 3,
   "metadata": {},
   "outputs": [],
   "source": [
    "#number of genes not diff exp\n",
    "numGenes = 30\n",
    "#number of genes diff exp\n",
    "numDE = 10\n",
    "#number of Cells where DE genes are not upregulated\n",
    "numCellsNeg = 80\n",
    "#number of Cells where DE genes are upregulated\n",
    "numCellsPos = 50"
   ]
  },
  {
   "cell_type": "code",
   "execution_count": 4,
   "metadata": {
    "scrolled": true
   },
   "outputs": [
    {
     "name": "stdout",
     "output_type": "stream",
     "text": [
      "(130, 40)\n"
     ]
    },
    {
     "data": {
      "text/html": [
       "<div>\n",
       "<style scoped>\n",
       "    .dataframe tbody tr th:only-of-type {\n",
       "        vertical-align: middle;\n",
       "    }\n",
       "\n",
       "    .dataframe tbody tr th {\n",
       "        vertical-align: top;\n",
       "    }\n",
       "\n",
       "    .dataframe thead th {\n",
       "        text-align: right;\n",
       "    }\n",
       "</style>\n",
       "<table border=\"1\" class=\"dataframe\">\n",
       "  <thead>\n",
       "    <tr style=\"text-align: right;\">\n",
       "      <th></th>\n",
       "      <th>gene0</th>\n",
       "      <th>gene1</th>\n",
       "      <th>gene2</th>\n",
       "      <th>gene3</th>\n",
       "      <th>gene4</th>\n",
       "      <th>gene5</th>\n",
       "      <th>gene6</th>\n",
       "      <th>gene7</th>\n",
       "      <th>gene8</th>\n",
       "      <th>gene9</th>\n",
       "      <th>...</th>\n",
       "      <th>gene30</th>\n",
       "      <th>gene31</th>\n",
       "      <th>gene32</th>\n",
       "      <th>gene33</th>\n",
       "      <th>gene34</th>\n",
       "      <th>gene35</th>\n",
       "      <th>gene36</th>\n",
       "      <th>gene37</th>\n",
       "      <th>gene38</th>\n",
       "      <th>gene39</th>\n",
       "    </tr>\n",
       "  </thead>\n",
       "  <tbody>\n",
       "    <tr>\n",
       "      <th>0</th>\n",
       "      <td>12</td>\n",
       "      <td>1</td>\n",
       "      <td>32</td>\n",
       "      <td>20</td>\n",
       "      <td>196</td>\n",
       "      <td>5</td>\n",
       "      <td>37</td>\n",
       "      <td>1</td>\n",
       "      <td>72</td>\n",
       "      <td>42</td>\n",
       "      <td>...</td>\n",
       "      <td>160</td>\n",
       "      <td>145</td>\n",
       "      <td>34</td>\n",
       "      <td>44</td>\n",
       "      <td>104</td>\n",
       "      <td>280</td>\n",
       "      <td>3</td>\n",
       "      <td>419</td>\n",
       "      <td>13</td>\n",
       "      <td>4323</td>\n",
       "    </tr>\n",
       "    <tr>\n",
       "      <th>1</th>\n",
       "      <td>5</td>\n",
       "      <td>0</td>\n",
       "      <td>30</td>\n",
       "      <td>19</td>\n",
       "      <td>206</td>\n",
       "      <td>5</td>\n",
       "      <td>55</td>\n",
       "      <td>3</td>\n",
       "      <td>75</td>\n",
       "      <td>47</td>\n",
       "      <td>...</td>\n",
       "      <td>154</td>\n",
       "      <td>123</td>\n",
       "      <td>27</td>\n",
       "      <td>61</td>\n",
       "      <td>123</td>\n",
       "      <td>237</td>\n",
       "      <td>0</td>\n",
       "      <td>319</td>\n",
       "      <td>10</td>\n",
       "      <td>5128</td>\n",
       "    </tr>\n",
       "    <tr>\n",
       "      <th>2</th>\n",
       "      <td>12</td>\n",
       "      <td>1</td>\n",
       "      <td>19</td>\n",
       "      <td>18</td>\n",
       "      <td>156</td>\n",
       "      <td>5</td>\n",
       "      <td>33</td>\n",
       "      <td>0</td>\n",
       "      <td>95</td>\n",
       "      <td>70</td>\n",
       "      <td>...</td>\n",
       "      <td>139</td>\n",
       "      <td>241</td>\n",
       "      <td>44</td>\n",
       "      <td>27</td>\n",
       "      <td>129</td>\n",
       "      <td>214</td>\n",
       "      <td>1</td>\n",
       "      <td>326</td>\n",
       "      <td>10</td>\n",
       "      <td>4439</td>\n",
       "    </tr>\n",
       "    <tr>\n",
       "      <th>3</th>\n",
       "      <td>7</td>\n",
       "      <td>0</td>\n",
       "      <td>14</td>\n",
       "      <td>14</td>\n",
       "      <td>183</td>\n",
       "      <td>4</td>\n",
       "      <td>41</td>\n",
       "      <td>5</td>\n",
       "      <td>80</td>\n",
       "      <td>29</td>\n",
       "      <td>...</td>\n",
       "      <td>193</td>\n",
       "      <td>147</td>\n",
       "      <td>43</td>\n",
       "      <td>52</td>\n",
       "      <td>86</td>\n",
       "      <td>189</td>\n",
       "      <td>4</td>\n",
       "      <td>419</td>\n",
       "      <td>11</td>\n",
       "      <td>3775</td>\n",
       "    </tr>\n",
       "    <tr>\n",
       "      <th>4</th>\n",
       "      <td>8</td>\n",
       "      <td>1</td>\n",
       "      <td>22</td>\n",
       "      <td>12</td>\n",
       "      <td>182</td>\n",
       "      <td>4</td>\n",
       "      <td>57</td>\n",
       "      <td>4</td>\n",
       "      <td>59</td>\n",
       "      <td>43</td>\n",
       "      <td>...</td>\n",
       "      <td>161</td>\n",
       "      <td>145</td>\n",
       "      <td>27</td>\n",
       "      <td>27</td>\n",
       "      <td>79</td>\n",
       "      <td>320</td>\n",
       "      <td>4</td>\n",
       "      <td>350</td>\n",
       "      <td>14</td>\n",
       "      <td>3470</td>\n",
       "    </tr>\n",
       "  </tbody>\n",
       "</table>\n",
       "<p>5 rows × 40 columns</p>\n",
       "</div>"
      ],
      "text/plain": [
       "   gene0  gene1  gene2  gene3  gene4  gene5  gene6  gene7  gene8  gene9  \\\n",
       "0     12      1     32     20    196      5     37      1     72     42   \n",
       "1      5      0     30     19    206      5     55      3     75     47   \n",
       "2     12      1     19     18    156      5     33      0     95     70   \n",
       "3      7      0     14     14    183      4     41      5     80     29   \n",
       "4      8      1     22     12    182      4     57      4     59     43   \n",
       "\n",
       "    ...    gene30  gene31  gene32  gene33  gene34  gene35  gene36  gene37  \\\n",
       "0   ...       160     145      34      44     104     280       3     419   \n",
       "1   ...       154     123      27      61     123     237       0     319   \n",
       "2   ...       139     241      44      27     129     214       1     326   \n",
       "3   ...       193     147      43      52      86     189       4     419   \n",
       "4   ...       161     145      27      27      79     320       4     350   \n",
       "\n",
       "   gene38  gene39  \n",
       "0      13    4323  \n",
       "1      10    5128  \n",
       "2      10    4439  \n",
       "3      11    3775  \n",
       "4      14    3470  \n",
       "\n",
       "[5 rows x 40 columns]"
      ]
     },
     "execution_count": 4,
     "metadata": {},
     "output_type": "execute_result"
    }
   ],
   "source": [
    "#mean gene expression for each gene in cells w/o upregulated genes\n",
    "meanDeNeg = np.random.normal(loc=4.0, scale = 2.0, size = numGenes+numDE)\n",
    "\n",
    "#mean gene expression for each gene in cells with upregulated genes\n",
    "meanDePos = np.random.normal(loc=1.0, scale = 1.0, size = numDE)\n",
    "meanDePos = [0.0 for i in range(0,numGenes)]+list(meanDePos)\n",
    "meanDePos = meanDeNeg + np.array(meanDePos)\n",
    "\n",
    "#copy means for each cell\n",
    "meanDeNeg = [meanDeNeg for _ in enumerate(range(0,numCellsNeg))]\n",
    "meanDePos = [meanDePos for _ in enumerate(range(0,numCellsPos))]\n",
    "#join means\n",
    "m = np.array(list(meanDeNeg) + list(meanDePos))\n",
    "#measurement error to add to means\n",
    "e = np.random.normal(loc=0.0, scale=0.15, size = (numCellsNeg+numCellsPos,numGenes+numDE))\n",
    "\n",
    "#create labels\n",
    "labels = [0 for _ in range(0,numCellsNeg)] + [1 for _ in range(0,numCellsPos)]\n",
    "\n",
    "#create CellxGene expression matrix drawn from poisson\n",
    "dge = pd.DataFrame(np.random.poisson(lam=np.exp(m+e)),\\\n",
    "                       columns = ['gene'+str(i) for i in range(0,numGenes+numDE)])\n",
    "print(dge.shape)\n",
    "dge.head()"
   ]
  },
  {
   "cell_type": "code",
   "execution_count": 5,
   "metadata": {},
   "outputs": [
    {
     "data": {
      "text/plain": [
       "<matplotlib.axes._subplots.AxesSubplot at 0x7fbace4d5e80>"
      ]
     },
     "execution_count": 5,
     "metadata": {},
     "output_type": "execute_result"
    },
    {
     "data": {
      "image/png": "[encoded data removed]",
      "text/plain": [
       "<Figure size 432x288 with 2 Axes>"
      ]
     },
     "metadata": {},
     "output_type": "display_data"
    }
   ],
   "source": [
    "dgeScaled = (dge-dge.mean())/dge.std()\n",
    "sns.heatmap(dgeScaled)"
   ]
  },
  {
   "cell_type": "code",
   "execution_count": 6,
   "metadata": {},
   "outputs": [],
   "source": [
    "pca = PCA(n_components=20)\n",
    "pca.fit(dge)\n",
    "cpts = pd.DataFrame(pca.transform(dge))\n",
    "x_axis = np.arange(1, pca.n_components_+1)\n",
    "pca_scaled = PCA(n_components=20)\n",
    "pca_scaled.fit(dgeScaled)\n",
    "cpts_scaled = pd.DataFrame(pca.transform(dgeScaled))"
   ]
  },
  {
   "cell_type": "code",
   "execution_count": 7,
   "metadata": {},
   "outputs": [
    {
     "data": {
      "text/plain": [
       "[<matplotlib.lines.Line2D at 0x7fbace306630>]"
      ]
     },
     "execution_count": 7,
     "metadata": {},
     "output_type": "execute_result"
    },
    {
     "data": {
      "image/png": "[encoded data removed]",
      "text/plain": [
       "<Figure size 432x288 with 4 Axes>"
      ]
     },
     "metadata": {},
     "output_type": "display_data"
    }
   ],
   "source": [
    "fig,ax = plt.subplots(2,2)\n",
    "ax[0,0].bar(x_axis,pca.explained_variance_/pca.explained_variance_.sum())\n",
    "ax[0,1].bar(x_axis,pca_scaled.explained_variance_/pca_scaled.explained_variance_.sum())\n",
    "ax[1,0].plot(x_axis,pca.explained_variance_.cumsum()/pca.explained_variance_.sum())\n",
    "ax[1,1].plot(x_axis,pca_scaled.explained_variance_.cumsum()/pca_scaled.explained_variance_.sum())"
   ]
  },
  {
   "cell_type": "code",
   "execution_count": 10,
   "metadata": {},
   "outputs": [],
   "source": [
    "#split data into sets\n",
    "X_train, X_test, y_train, y_test = train_test_split(dgeScaled,\\\n",
    "                                    labels,\\\n",
    "                                    test_size=0.1, stratify=labels, random_state=123456)"
   ]
  },
  {
   "cell_type": "code",
   "execution_count": 11,
   "metadata": {},
   "outputs": [
    {
     "data": {
      "text/plain": [
       "RandomForestClassifier(bootstrap=True, class_weight=None, criterion='gini',\n",
       "            max_depth=None, max_features='auto', max_leaf_nodes=None,\n",
       "            min_impurity_decrease=0.0, min_impurity_split=None,\n",
       "            min_samples_leaf=1, min_samples_split=2,\n",
       "            min_weight_fraction_leaf=0.0, n_estimators=100, n_jobs=1,\n",
       "            oob_score=True, random_state=123456, verbose=0,\n",
       "            warm_start=False)"
      ]
     },
     "execution_count": 11,
     "metadata": {},
     "output_type": "execute_result"
    }
   ],
   "source": [
    "#train\n",
    "rf = RandomForestClassifier(n_estimators=100, oob_score=True, random_state=123456)\n",
    "rf.fit(X_train, y_train)"
   ]
  },
  {
   "cell_type": "code",
   "execution_count": 12,
   "metadata": {},
   "outputs": [
    {
     "name": "stdout",
     "output_type": "stream",
     "text": [
      "Out-of-bag score estimate: 1.0\n",
      "Mean accuracy score: 1.0\n"
     ]
    },
    {
     "data": {
      "text/plain": [
       "<matplotlib.axes._subplots.AxesSubplot at 0x7fbace16a630>"
      ]
     },
     "execution_count": 12,
     "metadata": {},
     "output_type": "execute_result"
    },
    {
     "data": {
      "image/png": "[encoded data removed]",
      "text/plain": [
       "<Figure size 432x288 with 2 Axes>"
      ]
     },
     "metadata": {},
     "output_type": "display_data"
    }
   ],
   "source": [
    "#predict\n",
    "predicted = rf.predict(X_test)\n",
    "accuracy = accuracy_score(y_test, predicted)\n",
    "print(f'Out-of-bag score estimate: {rf.oob_score_:.3}')\n",
    "print(f'Mean accuracy score: {accuracy:.3}')\n",
    "\n",
    "#plot confusion matrix\n",
    "cm = pd.DataFrame(confusion_matrix(y_test, predicted), columns=['-','+'], index=['-','+'])\n",
    "sns.heatmap(cm, annot=True)"
   ]
  },
  {
   "cell_type": "code",
   "execution_count": 13,
   "metadata": {},
   "outputs": [
    {
     "name": "stdout",
     "output_type": "stream",
     "text": [
      "(40,)\n",
      "10\n"
     ]
    }
   ],
   "source": [
    "#select top 200 most important genes as differentially expressed\n",
    "diffExpGenesRF = pd.Series(rf.feature_importances_, index=['gene'+str(i) for i in range(0,numGenes+numDE)])\n",
    "print(diffExpGenesRF.shape)\n",
    "diffExpGenesRF = diffExpGenesRF.sort_values(ascending=False)[0:numDE].index\n",
    "print(len(diffExpGenesRF))"
   ]
  },
  {
   "cell_type": "code",
   "execution_count": 14,
   "metadata": {},
   "outputs": [
    {
     "data": {
      "text/plain": [
       "<matplotlib.axes._subplots.AxesSubplot at 0x7fbace0ef7f0>"
      ]
     },
     "execution_count": 14,
     "metadata": {},
     "output_type": "execute_result"
    },
    {
     "data": {
      "image/png": "[encoded data removed]",
      "text/plain": [
       "<Figure size 432x288 with 2 Axes>"
      ]
     },
     "metadata": {},
     "output_type": "display_data"
    }
   ],
   "source": [
    "cm = pd.DataFrame(confusion_matrix([g in diffExpGenesRF for g in dge.keys()],\\\n",
    "                 [False for _ in range(0,numGenes)] + [True for _ in range(0,numDE)]),\\\n",
    "                 columns=['-','+'], index=['-','+'])\n",
    "sns.heatmap(cm, annot=True)"
   ]
  },
  {
   "cell_type": "code",
   "execution_count": 39,
   "metadata": {},
   "outputs": [
    {
     "data": {
      "text/plain": [
       "SVC(C=1.0, cache_size=200, class_weight=None, coef0=0.0,\n",
       "  decision_function_shape='ovr', degree=3, gamma='auto', kernel='linear',\n",
       "  max_iter=-1, probability=False, random_state=None, shrinking=True,\n",
       "  tol=0.001, verbose=False)"
      ]
     },
     "execution_count": 39,
     "metadata": {},
     "output_type": "execute_result"
    }
   ],
   "source": [
    "clf = svm.SVC(kernel='linear')\n",
    "clf.fit(X_train, y_train)"
   ]
  },
  {
   "cell_type": "code",
   "execution_count": 40,
   "metadata": {},
   "outputs": [
    {
     "name": "stdout",
     "output_type": "stream",
     "text": [
      "Out-of-bag score estimate: 1.0\n",
      "Mean accuracy score: 1.0\n"
     ]
    },
    {
     "data": {
      "text/plain": [
       "<matplotlib.axes._subplots.AxesSubplot at 0x7fbacdfa10f0>"
      ]
     },
     "execution_count": 40,
     "metadata": {},
     "output_type": "execute_result"
    },
    {
     "data": {
      "image/png": "[encoded data removed]",
      "text/plain": [
       "<Figure size 432x288 with 2 Axes>"
      ]
     },
     "metadata": {},
     "output_type": "display_data"
    }
   ],
   "source": [
    "predicted = clf.predict(X_test)\n",
    "accuracy = accuracy_score(y_test, predicted)\n",
    "print(f'Out-of-bag score estimate: {rf.oob_score_:.3}')\n",
    "print(f'Mean accuracy score: {accuracy:.3}')\n",
    "\n",
    "#plot confusion matrix\n",
    "cm = pd.DataFrame(confusion_matrix(y_test, predicted), columns=['-','+'], index=['-','+'])\n",
    "sns.heatmap(cm, annot=True)"
   ]
  },
  {
   "cell_type": "code",
   "execution_count": 44,
   "metadata": {},
   "outputs": [
    {
     "name": "stdout",
     "output_type": "stream",
     "text": [
      "(40,)\n",
      "10\n"
     ]
    }
   ],
   "source": [
    "clf.coef_[0]\n",
    "#select top 200 most important genes as differentially expressed\n",
    "diffExpGenesRF = pd.Series(clf.coef_[0], index=['gene'+str(i) for i in range(0,numGenes+numDE)])\n",
    "print(diffExpGenesRF.shape)\n",
    "diffExpGenesRF = diffExpGenesRF.sort_values(ascending=False)[0:numDE].index\n",
    "print(len(diffExpGenesRF))"
   ]
  },
  {
   "cell_type": "code",
   "execution_count": 45,
   "metadata": {},
   "outputs": [
    {
     "data": {
      "text/plain": [
       "<matplotlib.axes._subplots.AxesSubplot at 0x7fbacdf1d198>"
      ]
     },
     "execution_count": 45,
     "metadata": {},
     "output_type": "execute_result"
    },
    {
     "data": {
      "image/png": "[encoded data removed]",
      "text/plain": [
       "<Figure size 432x288 with 2 Axes>"
      ]
     },
     "metadata": {},
     "output_type": "display_data"
    }
   ],
   "source": [
    "cm = pd.DataFrame(confusion_matrix([g in diffExpGenesRF for g in dge.keys()],\\\n",
    "                 [False for _ in range(0,numGenes)] + [True for _ in range(0,numDE)]),\\\n",
    "                 columns=['-','+'], index=['-','+'])\n",
    "sns.heatmap(cm, annot=True)"
   ]
  },
  {
   "cell_type": "code",
   "execution_count": 182,
   "metadata": {},
   "outputs": [
    {
     "name": "stderr",
     "output_type": "stream",
     "text": [
      "/usr/lib/python3.6/site-packages/ipykernel_launcher.py:4: RuntimeWarning: overflow encountered in exp\n",
      "  after removing the cwd from sys.path.\n",
      "/usr/lib/python3.6/site-packages/ipykernel_launcher.py:5: RuntimeWarning: overflow encountered in exp\n",
      "  \"\"\"\n"
     ]
    }
   ],
   "source": [
    "#find differentially expressed genes\n",
    "    \n",
    "#logFC\n",
    "meanGroup1 = np.log((np.exp(dge.loc[0:numCellsNeg])-1).mean()+1)\n",
    "meanGroup2 = np.log((np.exp(dge.loc[numCellsNeg+1:])-1).mean()+1)\n",
    "logFC = meanGroup1 - meanGroup2\n",
    "\n",
    "#join them\n",
    "diffExp = pd.concat([logFC], axis=1)\n",
    "diffExp.columns = ['logFC']\n",
    "\n",
    "pvalues = []\n",
    "for g in dge.keys():\n",
    "    statistic, pval = mannwhitneyu(dge[g].loc[0:numCellsNeg].tolist(),\\\n",
    "        dge[g].loc[numCellsNeg+1:].tolist(),\\\n",
    "             use_continuity = True, alternative = 'two-sided')\n",
    "    pvalues.append(pval)\n",
    "diffExp['pval'] = pd.Series(pvalues, index=dge.keys())\n",
    "\n",
    "\n",
    "fig, ax = plt.subplots(figsize=[8,6])\n",
    "ax.scatter(np.log2(diffExp.logFC),-np.log10(diffExp.pval))"
   ]
  },
  {
   "cell_type": "code",
   "execution_count": null,
   "metadata": {},
   "outputs": [],
   "source": []
  }
 ],
 "metadata": {
  "kernelspec": {
   "display_name": "Python 3",
   "language": "python",
   "name": "python3"
  },
  "language_info": {
   "codemirror_mode": {
    "name": "ipython",
    "version": 3
   },
   "file_extension": ".py",
   "mimetype": "text/x-python",
   "name": "python",
   "nbconvert_exporter": "python",
   "pygments_lexer": "ipython3",
   "version": "3.7.1"
  }
 },
 "nbformat": 4,
 "nbformat_minor": 2
}
